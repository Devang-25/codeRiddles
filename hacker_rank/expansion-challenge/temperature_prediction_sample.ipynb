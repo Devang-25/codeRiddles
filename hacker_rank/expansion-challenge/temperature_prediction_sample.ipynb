{
 "metadata": {
  "name": ""
 },
 "nbformat": 3,
 "nbformat_minor": 0,
 "worksheets": [
  {
   "cells": [
    {
     "cell_type": "markdown",
     "metadata": {},
     "source": [
      "Find missing temperature values\n",
      "===============================\n",
      "\n",
      "* libraries enabled: numpy, scipy, sklearn, nltk\n",
      "* copy-paste text from ./testcases/temperature.txt for input"
     ]
    },
    {
     "cell_type": "heading",
     "level": 3,
     "metadata": {},
     "source": [
      "Necessary Imports"
     ]
    },
    {
     "cell_type": "code",
     "collapsed": false,
     "input": [
      "import sys\n",
      "import numpy as np\n",
      "from sklearn.preprocessing import Imputer\n",
      "import pandas as pd\n",
      "#from pandas import DataFrame\n",
      "from matplotlib.pylab import poly1d, polyfit\n",
      "from matplotlib import pyplot as plt\n",
      "\n",
      "# from sklearn.ensemble import RandomForestRegressor\n",
      "# from sklearn.pipeline import Pipeline\n",
      "# from sklearn.cross_validation import cross_val_score"
     ],
     "language": "python",
     "metadata": {},
     "outputs": [],
     "prompt_number": 13
    },
    {
     "cell_type": "heading",
     "level": 3,
     "metadata": {},
     "source": [
      "Define the Prediction class"
     ]
    },
    {
     "cell_type": "code",
     "collapsed": false,
     "input": [
      "class PredictTemp:    \n",
      "    ''' \n",
      "    Apply AND operator on subsets with given conditions \n",
      "    '''\n",
      "\n",
      "    def __init__(self, size, ip):\n",
      "        self.N = size\n",
      "        # # self.data = np.array(ip, \\\n",
      "        # #                   dtype=[(heads[0],'int'), \\\n",
      "        # #                          (heads[1],'|S10'), \\\n",
      "        # #                          (heads[2], 'float'), \\\n",
      "        # #                          (heads[3], 'float')\n",
      "        # #                      ])\n",
      "        # self.data = np.array(ip)\n",
      "        # self.data_std = np.isnan(self.data[:,[2,3]].astype(np.float,\n",
      "        #                                                    copy=False))\n",
      "        self.df = pd.DataFrame(ip, \n",
      "                               columns=['year','month','tmax','tmin'], \n",
      "                               dtype=float)\n",
      "        self.null_refined = pd.notnull(self.df[[2,3]])\n",
      "\n",
      "    def plot_regression(self):\n",
      "        # sample plot of points\n",
      "        x = self.NaN_filtered['tmax']\n",
      "        y = self.NaN_filtered['tmin']\n",
      "        fit = polyfit(x,y,1)\n",
      "        fit_fn = poly1d(fit)\n",
      "        # takes in x and returns an estimate for y\n",
      "        plt.plot(x,y, 'yo', x, fit_fn(x), '--k')\n",
      "        plt.title(\"Temperature pattern regression plot\")\n",
      "        plt.xlabel(\"tmax\")\n",
      "        plt.ylabel(\"tmin\")\n",
      "        plt.show()        \n",
      "        \n",
      "    def predict_already(self):\n",
      "        # tmax_true = self.df['tmax'][np.isfinite(self.df['tmax'])\n",
      "        self.NaN_filtered = self.df[self.null_refined['tmax']]\\\n",
      "                       [self.null_refined['tmin']]\n",
      "\n",
      "        print '='*10\n",
      "        print \"Mean values:\\n%s\" % (self.df[[2,3]].apply(np.mean)\\\n",
      "                                    .to_string())\n",
      "        \n",
      "        self.plot_regression()\n",
      "        return Imputer(self.NaN_filtered[[2,3]])"
     ],
     "language": "python",
     "metadata": {},
     "outputs": [],
     "prompt_number": 14
    },
    {
     "cell_type": "heading",
     "level": 3,
     "metadata": {},
     "source": [
      "Time to call the main function"
     ]
    },
    {
     "cell_type": "code",
     "collapsed": false,
     "input": [
      "if __name__ == '__main__':\n",
      "    N = int(raw_input())\n",
      "    assert 1<=N<=1500\n",
      "    raw_input()\n",
      "    ans = []\n",
      "    ip = []\n",
      "    for i in xrange(N):\n",
      "        temp = raw_input().split()        \n",
      "        assert len(temp) == 4\n",
      "        if 'Missing' in temp[2]:\n",
      "            temp[2] = np.NAN\n",
      "            assert -75<=float(temp[3])<=75\n",
      "        elif 'Missing' in temp[3]:\n",
      "            temp[3] = np.NAN\n",
      "            assert -75<=float(temp[2])<=75\n",
      "        else:\n",
      "            assert -75<=float(temp[2])<=75 and -75<=float(temp[3])<=75    \n",
      "        assert 1908<=int(temp[0])<=2013\n",
      "        temp[0] = int(temp[0])\n",
      "        ip.append(temp)\n",
      "    PT = PredictTemp(N, ip)\n",
      "    ans.append(PT.predict_already())\n",
      "    for i in ans: print i"
     ],
     "language": "python",
     "metadata": {},
     "outputs": [
      {
       "name": "stdout",
       "output_type": "stream",
       "stream": "stdout",
       "text": [
        "20\n"
       ]
      },
      {
       "name": "stdout",
       "output_type": "stream",
       "stream": "stdout",
       "text": [
        "yyyy    month   tmax    tmin\n"
       ]
      },
      {
       "name": "stdout",
       "output_type": "stream",
       "stream": "stdout",
       "text": [
        "1908    January 5.0 -1.4\n"
       ]
      },
      {
       "name": "stdout",
       "output_type": "stream",
       "stream": "stdout",
       "text": [
        "1908    February    7.3 1.9\n"
       ]
      },
      {
       "name": "stdout",
       "output_type": "stream",
       "stream": "stdout",
       "text": [
        "1908    March   6.2 0.3\n"
       ]
      },
      {
       "name": "stdout",
       "output_type": "stream",
       "stream": "stdout",
       "text": [
        "1908    April   Missing_1   2.1\n"
       ]
      },
      {
       "name": "stdout",
       "output_type": "stream",
       "stream": "stdout",
       "text": [
        "1908    May Missing_2   7.7\n"
       ]
      },
      {
       "name": "stdout",
       "output_type": "stream",
       "stream": "stdout",
       "text": [
        "1908    June    17.7    8.7\n"
       ]
      },
      {
       "name": "stdout",
       "output_type": "stream",
       "stream": "stdout",
       "text": [
        "1908    July    Missing_3   11.0\n"
       ]
      },
      {
       "name": "stdout",
       "output_type": "stream",
       "stream": "stdout",
       "text": [
        "1908    August  17.5    9.7\n"
       ]
      },
      {
       "name": "stdout",
       "output_type": "stream",
       "stream": "stdout",
       "text": [
        "1908    September   16.3    8.4\n"
       ]
      },
      {
       "name": "stdout",
       "output_type": "stream",
       "stream": "stdout",
       "text": [
        "1908    October 14.6    8.0\n"
       ]
      },
      {
       "name": "stdout",
       "output_type": "stream",
       "stream": "stdout",
       "text": [
        "1908    November    9.6 3.4\n"
       ]
      },
      {
       "name": "stdout",
       "output_type": "stream",
       "stream": "stdout",
       "text": [
        "1908    December    5.8 Missing_4\n"
       ]
      },
      {
       "name": "stdout",
       "output_type": "stream",
       "stream": "stdout",
       "text": [
        "1909    January 5.0 0.1\n"
       ]
      },
      {
       "name": "stdout",
       "output_type": "stream",
       "stream": "stdout",
       "text": [
        "1909    February    5.5 -0.3\n"
       ]
      },
      {
       "name": "stdout",
       "output_type": "stream",
       "stream": "stdout",
       "text": [
        "1909    March   5.6 -0.3\n"
       ]
      },
      {
       "name": "stdout",
       "output_type": "stream",
       "stream": "stdout",
       "text": [
        "1909    April   12.2    3.3\n"
       ]
      },
      {
       "name": "stdout",
       "output_type": "stream",
       "stream": "stdout",
       "text": [
        "1909    May 14.7    4.8\n"
       ]
      },
      {
       "name": "stdout",
       "output_type": "stream",
       "stream": "stdout",
       "text": [
        "1909    June    15.0    7.5\n"
       ]
      },
      {
       "name": "stdout",
       "output_type": "stream",
       "stream": "stdout",
       "text": [
        "1909    July    17.3    10.8\n"
       ]
      },
      {
       "name": "stdout",
       "output_type": "stream",
       "stream": "stdout",
       "text": [
        "1909    August  18.8    10.7\n"
       ]
      },
      {
       "output_type": "stream",
       "stream": "stdout",
       "text": [
        "Mean values:\n",
        "tmax    11.417647\n",
        "tmin     5.073684\n",
        "Imputer(axis=0, copy=True,\n",
        "    missing_values=    tmax  tmin\n",
        "0    5.0  -1.4\n",
        "1    7.3   1.9\n",
        "2    6.2   0.3\n",
        "5   17.7   8.7\n",
        "7   17.5   9.7\n",
        "8   16.3   8.4\n",
        "9   14.6   8.0\n",
        "10   9.6   3.4\n",
        "12   5.0   0.1\n",
        "13   5.5  -0.3\n",
        "14   5.6  -0.3\n",
        "15  12.2   3.3\n",
        "16  14.7   4.8\n",
        "17  15.0   7.5\n",
        "18  17.3  10.8\n",
        "19  18.8  10.7\n",
        "\n",
        "[16 rows x 2 columns],\n",
        "    strategy=mean, verbose=0)"
       ]
      },
      {
       "output_type": "stream",
       "stream": "stdout",
       "text": [
        "\n"
       ]
      }
     ],
     "prompt_number": 15
    },
    {
     "cell_type": "heading",
     "level": 3,
     "metadata": {},
     "source": [
      "OUTPUT"
     ]
    },
    {
     "cell_type": "markdown",
     "metadata": {},
     "source": [
      "<img src=\"files/figure1.png\">"
     ]
    },
    {
     "cell_type": "markdown",
     "metadata": {},
     "source": [
      "## Notes\n",
      "- Code to display an image in ipython through python:\n",
      "```python\n",
      "from IPython.display import Image, display\n",
      "i = Image(filename='figure1.png')\n",
      "display(i)\n",
      "```\n",
      "\n",
      "- Code to display image from markdown in ipython:\n",
      "```html\n",
      "<img src=\"files/image.png\">\n",
      "```"
     ]
    }
   ],
   "metadata": {}
  }
 ]
}