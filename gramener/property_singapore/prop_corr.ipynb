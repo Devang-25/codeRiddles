{
 "cells": [
  {
   "cell_type": "code",
   "execution_count": 34,
   "metadata": {
    "collapsed": true
   },
   "outputs": [],
   "source": [
    "import pandas as pd\n",
    "import matplotlib.pyplot as plt\n",
    "%matplotlib inline"
   ]
  },
  {
   "cell_type": "code",
   "execution_count": 35,
   "metadata": {
    "collapsed": false,
    "scrolled": true
   },
   "outputs": [
    {
     "name": "stderr",
     "output_type": "stream",
     "text": [
      "/home/arcolife/.local/lib/python2.7/site-packages/IPython/kernel/__main__.py:4: FutureWarning: convert_objects is deprecated.  Use the data-type specific converters pd.to_datetime, pd.to_timedelta and pd.to_numeric.\n"
     ]
    },
    {
     "data": {
      "text/html": [
       "<div>\n",
       "<table border=\"1\" class=\"dataframe\">\n",
       "  <thead>\n",
       "    <tr style=\"text-align: right;\">\n",
       "      <th></th>\n",
       "      <th>year</th>\n",
       "      <th>month</th>\n",
       "      <th>Project Name</th>\n",
       "      <th>Total Number of Units in Project</th>\n",
       "      <th>Cumulative Units Launched to-date</th>\n",
       "      <th>Cumulative Units Sold to-date</th>\n",
       "      <th>Cumulative Units Launched but Unsold</th>\n",
       "      <th>Units Launched in the Month</th>\n",
       "      <th>Units Sold in the Month</th>\n",
       "      <th>Median Price($psm) # in the Month Number Sold By Price Range</th>\n",
       "      <th>Lowest Price ($psm) # in the Month</th>\n",
       "      <th>Highest Price ($psm) # in the Month</th>\n",
       "    </tr>\n",
       "  </thead>\n",
       "  <tbody>\n",
       "    <tr>\n",
       "      <th>count</th>\n",
       "      <td>31683.000000</td>\n",
       "      <td>31683.000000</td>\n",
       "      <td>11</td>\n",
       "      <td>31683.000000</td>\n",
       "      <td>31683.000000</td>\n",
       "      <td>31683.000000</td>\n",
       "      <td>31683.000000</td>\n",
       "      <td>31683.000000</td>\n",
       "      <td>31683.000000</td>\n",
       "      <td>7020.000000</td>\n",
       "      <td>7020.000000</td>\n",
       "      <td>7020.000000</td>\n",
       "    </tr>\n",
       "    <tr>\n",
       "      <th>mean</th>\n",
       "      <td>2009.943629</td>\n",
       "      <td>6.575829</td>\n",
       "      <td>1919</td>\n",
       "      <td>126.460847</td>\n",
       "      <td>101.389452</td>\n",
       "      <td>91.606414</td>\n",
       "      <td>9.783038</td>\n",
       "      <td>2.986523</td>\n",
       "      <td>2.941483</td>\n",
       "      <td>14729.829345</td>\n",
       "      <td>13865.764957</td>\n",
       "      <td>15545.168519</td>\n",
       "    </tr>\n",
       "    <tr>\n",
       "      <th>std</th>\n",
       "      <td>1.656787</td>\n",
       "      <td>3.496671</td>\n",
       "      <td>0</td>\n",
       "      <td>178.322591</td>\n",
       "      <td>158.057582</td>\n",
       "      <td>147.440738</td>\n",
       "      <td>29.291458</td>\n",
       "      <td>27.068105</td>\n",
       "      <td>19.622832</td>\n",
       "      <td>7439.898622</td>\n",
       "      <td>7341.179698</td>\n",
       "      <td>7777.804842</td>\n",
       "    </tr>\n",
       "    <tr>\n",
       "      <th>min</th>\n",
       "      <td>2007.000000</td>\n",
       "      <td>1.000000</td>\n",
       "      <td>1919</td>\n",
       "      <td>4.000000</td>\n",
       "      <td>0.000000</td>\n",
       "      <td>0.000000</td>\n",
       "      <td>0.000000</td>\n",
       "      <td>0.000000</td>\n",
       "      <td>0.000000</td>\n",
       "      <td>0.000000</td>\n",
       "      <td>0.000000</td>\n",
       "      <td>0.000000</td>\n",
       "    </tr>\n",
       "    <tr>\n",
       "      <th>25%</th>\n",
       "      <td>2009.000000</td>\n",
       "      <td>3.000000</td>\n",
       "      <td>1919</td>\n",
       "      <td>26.000000</td>\n",
       "      <td>12.000000</td>\n",
       "      <td>8.000000</td>\n",
       "      <td>0.000000</td>\n",
       "      <td>0.000000</td>\n",
       "      <td>0.000000</td>\n",
       "      <td>9419.000000</td>\n",
       "      <td>8751.000000</td>\n",
       "      <td>9978.000000</td>\n",
       "    </tr>\n",
       "    <tr>\n",
       "      <th>50%</th>\n",
       "      <td>2010.000000</td>\n",
       "      <td>7.000000</td>\n",
       "      <td>1919</td>\n",
       "      <td>56.000000</td>\n",
       "      <td>40.000000</td>\n",
       "      <td>34.000000</td>\n",
       "      <td>0.000000</td>\n",
       "      <td>0.000000</td>\n",
       "      <td>0.000000</td>\n",
       "      <td>13078.000000</td>\n",
       "      <td>12039.500000</td>\n",
       "      <td>13848.000000</td>\n",
       "    </tr>\n",
       "    <tr>\n",
       "      <th>75%</th>\n",
       "      <td>2011.000000</td>\n",
       "      <td>10.000000</td>\n",
       "      <td>1919</td>\n",
       "      <td>140.000000</td>\n",
       "      <td>108.000000</td>\n",
       "      <td>99.000000</td>\n",
       "      <td>6.000000</td>\n",
       "      <td>0.000000</td>\n",
       "      <td>0.000000</td>\n",
       "      <td>17567.000000</td>\n",
       "      <td>16632.750000</td>\n",
       "      <td>18525.000000</td>\n",
       "    </tr>\n",
       "    <tr>\n",
       "      <th>max</th>\n",
       "      <td>2013.000000</td>\n",
       "      <td>12.000000</td>\n",
       "      <td>1919</td>\n",
       "      <td>1715.000000</td>\n",
       "      <td>1500.000000</td>\n",
       "      <td>1240.000000</td>\n",
       "      <td>670.000000</td>\n",
       "      <td>992.000000</td>\n",
       "      <td>770.000000</td>\n",
       "      <td>73637.000000</td>\n",
       "      <td>73637.000000</td>\n",
       "      <td>73637.000000</td>\n",
       "    </tr>\n",
       "  </tbody>\n",
       "</table>\n",
       "</div>"
      ],
      "text/plain": [
       "               year         month  Project Name  \\\n",
       "count  31683.000000  31683.000000            11   \n",
       "mean    2009.943629      6.575829          1919   \n",
       "std        1.656787      3.496671             0   \n",
       "min     2007.000000      1.000000          1919   \n",
       "25%     2009.000000      3.000000          1919   \n",
       "50%     2010.000000      7.000000          1919   \n",
       "75%     2011.000000     10.000000          1919   \n",
       "max     2013.000000     12.000000          1919   \n",
       "\n",
       "       Total Number of Units in Project  Cumulative Units Launched to-date  \\\n",
       "count                      31683.000000                       31683.000000   \n",
       "mean                         126.460847                         101.389452   \n",
       "std                          178.322591                         158.057582   \n",
       "min                            4.000000                           0.000000   \n",
       "25%                           26.000000                          12.000000   \n",
       "50%                           56.000000                          40.000000   \n",
       "75%                          140.000000                         108.000000   \n",
       "max                         1715.000000                        1500.000000   \n",
       "\n",
       "       Cumulative Units Sold to-date  Cumulative Units Launched but Unsold  \\\n",
       "count                   31683.000000                          31683.000000   \n",
       "mean                       91.606414                              9.783038   \n",
       "std                       147.440738                             29.291458   \n",
       "min                         0.000000                              0.000000   \n",
       "25%                         8.000000                              0.000000   \n",
       "50%                        34.000000                              0.000000   \n",
       "75%                        99.000000                              6.000000   \n",
       "max                      1240.000000                            670.000000   \n",
       "\n",
       "       Units Launched in the Month  Units Sold in the Month  \\\n",
       "count                 31683.000000             31683.000000   \n",
       "mean                      2.986523                 2.941483   \n",
       "std                      27.068105                19.622832   \n",
       "min                       0.000000                 0.000000   \n",
       "25%                       0.000000                 0.000000   \n",
       "50%                       0.000000                 0.000000   \n",
       "75%                       0.000000                 0.000000   \n",
       "max                     992.000000               770.000000   \n",
       "\n",
       "       Median Price($psm) # in the Month Number Sold By Price Range  \\\n",
       "count                                        7020.000000              \n",
       "mean                                        14729.829345              \n",
       "std                                          7439.898622              \n",
       "min                                             0.000000              \n",
       "25%                                          9419.000000              \n",
       "50%                                         13078.000000              \n",
       "75%                                         17567.000000              \n",
       "max                                         73637.000000              \n",
       "\n",
       "       Lowest Price ($psm) # in the Month  Highest Price ($psm) # in the Month  \n",
       "count                         7020.000000                          7020.000000  \n",
       "mean                         13865.764957                         15545.168519  \n",
       "std                           7341.179698                          7777.804842  \n",
       "min                              0.000000                             0.000000  \n",
       "25%                           8751.000000                          9978.000000  \n",
       "50%                          12039.500000                         13848.000000  \n",
       "75%                          16632.750000                         18525.000000  \n",
       "max                          73637.000000                         73637.000000  "
      ]
     },
     "execution_count": 35,
     "metadata": {},
     "output_type": "execute_result"
    }
   ],
   "source": [
    "df = pd.read_csv('singapore-property-data.csv')\n",
    "df.replace('-', pd.np.nan, inplace=True)\n",
    "df.replace(',', '', regex=True, inplace=True)\n",
    "df = df.convert_objects(convert_numeric=True)\n",
    "df.describe()"
   ]
  },
  {
   "cell_type": "markdown",
   "metadata": {},
   "source": [
    "# Filter out for experienced developers out there"
   ]
  },
  {
   "cell_type": "code",
   "execution_count": 36,
   "metadata": {
    "collapsed": true
   },
   "outputs": [],
   "source": [
    "df0 = df[(df['Cumulative Units Launched but Unsold'] == 0) & \\\n",
    "         (df['Cumulative Units Launched to-date'] != 0)]"
   ]
  },
  {
   "cell_type": "markdown",
   "metadata": {},
   "source": [
    "# Per year stats for Highest selling streets"
   ]
  },
  {
   "cell_type": "code",
   "execution_count": 37,
   "metadata": {
    "collapsed": false,
    "scrolled": true
   },
   "outputs": [
    {
     "name": "stdout",
     "output_type": "stream",
     "text": [
      "2007 ['ORCHARD BOULEVARD', 60278.0]\n",
      "2008 ['SCOTTS ROAD', 49644.0]\n",
      "2009 ['SCOTTS ROAD', 46328.0]\n",
      "2010 ['CAIRNHILL ROAD', 46361.0]\n",
      "2011 ['PATERSON HILL', 73637.0]\n",
      "2012 ['PATERSON HILL', 66898.0]\n",
      "2013 ['ARDMORE PARK', 47060.0]\n"
     ]
    }
   ],
   "source": [
    "for y in df0.year.unique():\n",
    "    tmp = df0[df0.year == y]\n",
    "    streets = tmp.sort_values(['Highest Price ($psm) # in the Month'], ascending=False)\n",
    "    print y, streets[['Street Name', 'Highest Price ($psm) # in the Month']].iloc[0].tolist() \n",
    "# tmp.groupby('Highest Price ($psm) # in the Month').first()"
   ]
  },
  {
   "cell_type": "markdown",
   "metadata": {},
   "source": [
    "\n",
    "# Top growing Developers"
   ]
  },
  {
   "cell_type": "code",
   "execution_count": 38,
   "metadata": {
    "collapsed": false
   },
   "outputs": [
    {
     "name": "stdout",
     "output_type": "stream",
     "text": [
      "Top growing Developers:\n",
      "1 Peak Garden Pte Ltd\n",
      "2 Glengary Pte Ltd\n",
      "3 City Developments Ltd\n",
      "4 Winhome Investment Pte Ltd\n",
      "5 Punggol Residences Pte Ltd\n",
      "6 Hong Realty Pte Ltd\n",
      "7 Yishun Land Pte Ltd\n",
      "8 Bartley Development Pte Ltd\n",
      "9 Sim Lian (Tampines One) Pte. Ltd\n",
      "10 Kensington Land Pte Ltd\n"
     ]
    }
   ],
   "source": [
    "df1 = df0.sort_values(['Cumulative Units Launched to-date'], ascending=False)\n",
    "res = df1.Developer.unique()[:10]\n",
    "print \"Top growing Developers:\"\n",
    "for i,j in enumerate(res): print i+1,j"
   ]
  },
  {
   "cell_type": "markdown",
   "metadata": {},
   "source": [
    "# Top 10 Developers with ZERO units launched till date"
   ]
  },
  {
   "cell_type": "code",
   "execution_count": 42,
   "metadata": {
    "collapsed": false,
    "scrolled": true
   },
   "outputs": [
    {
     "name": "stdout",
     "output_type": "stream",
     "text": [
      "1 Bullion Holdings Pte Ltd\n",
      "2 349UP Pte Ltd\n",
      "3 Deneside Pte Ltd\n",
      "4 Fairview Developments Pte Ltd\n",
      "5 Far East Organization Centre Pte Ltd\n",
      "6 Ho Brothers Investment Pte Ltd\n",
      "7 One Two Holdings Pte Ltd\n",
      "8 Winquest Investment Pte Ltd\n",
      "9 Napier Properties Pte Ltd\n",
      "10 High Oak Properties Pte Ltd\n"
     ]
    }
   ],
   "source": [
    "df1 = df[df['Cumulative Units Launched to-date'] == 0][:10]\n",
    "fig = df1.Developer.value_counts()\n",
    "for i,j in enumerate(fig.index): print i+1,j"
   ]
  },
  {
   "cell_type": "markdown",
   "metadata": {},
   "source": [
    "# Top 10 Developers with consistently high solds"
   ]
  },
  {
   "cell_type": "code",
   "execution_count": 41,
   "metadata": {
    "collapsed": false
   },
   "outputs": [
    {
     "name": "stdout",
     "output_type": "stream",
     "text": [
      "1 Grandon Pte Ltd\n",
      "2 Orchard Turn Residential Development Pte Ltd/Orchard Turn Retail Investment Pte Ltd\n",
      "3 Royce Properties Pte Ltd\n",
      "4 Taraville Pte Ltd\n",
      "5 Wheelock Properties (Singapore) Ltd\n",
      "6 Orchard Turn Residential Devt Pte Ltd/Orchard Turn Retail\n",
      "7 Winrose Investment Pte Ltd\n",
      "8 Orchard Turn Residential Devt Pte Ltd/Orchard Turn Retail Investment Pte Ltd\n",
      "9 Nassim Park Developments Pte Ltd\n",
      "10 Napier Properties Pte Ltd\n"
     ]
    }
   ],
   "source": [
    "df1 = df0[(df['Units Sold in the Month'] != 0) & \\\n",
    "        (df['Units Launched in the Month'] != 0)]\n",
    "    \n",
    "df1 = df0.sort_values(['Highest Price ($psm) # in the Month',\n",
    "                      'Median Price($psm) # in the Month Number Sold By Price Range',\n",
    "                      'Lowest Price ($psm) # in the Month'], ascending=False)\n",
    "\n",
    "res = df1.Developer.unique()[:10]\n",
    "for i,j in enumerate(res): print i+1,j\n",
    "# fig.plot(figsize=(16,4),  kind='bar', title=_title)"
   ]
  }
 ],
 "metadata": {
  "kernelspec": {
   "display_name": "Python 2",
   "language": "python",
   "name": "python2"
  },
  "language_info": {
   "codemirror_mode": {
    "name": "ipython",
    "version": 2
   },
   "file_extension": ".py",
   "mimetype": "text/x-python",
   "name": "python",
   "nbconvert_exporter": "python",
   "pygments_lexer": "ipython2",
   "version": "2.7.10"
  }
 },
 "nbformat": 4,
 "nbformat_minor": 0
}
