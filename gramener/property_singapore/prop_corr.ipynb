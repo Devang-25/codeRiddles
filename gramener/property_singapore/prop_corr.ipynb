{
 "cells": [
  {
   "cell_type": "code",
   "execution_count": 63,
   "metadata": {
    "collapsed": true
   },
   "outputs": [],
   "source": [
    "import pandas as pd\n",
    "import matplotlib.pyplot as plt\n",
    "%matplotlib inline\n",
    "idx = pd.IndexSlice"
   ]
  },
  {
   "cell_type": "code",
   "execution_count": 38,
   "metadata": {
    "collapsed": false,
    "scrolled": true
   },
   "outputs": [
    {
     "name": "stderr",
     "output_type": "stream",
     "text": [
      "/home/arcolife/.local/lib/python2.7/site-packages/IPython/kernel/__main__.py:4: FutureWarning: convert_objects is deprecated.  Use the data-type specific converters pd.to_datetime, pd.to_timedelta and pd.to_numeric.\n"
     ]
    },
    {
     "data": {
      "text/html": [
       "<div>\n",
       "<table border=\"1\" class=\"dataframe\">\n",
       "  <thead>\n",
       "    <tr style=\"text-align: right;\">\n",
       "      <th></th>\n",
       "      <th>Total Number of Units in Project</th>\n",
       "      <th>Cumulative Units Launched to-date</th>\n",
       "      <th>Cumulative Units Sold to-date</th>\n",
       "      <th>Cumulative Units Launched but Unsold</th>\n",
       "      <th>Units Launched in the Month</th>\n",
       "      <th>Units Sold in the Month</th>\n",
       "      <th>Median Price($psm) # in the Month Number Sold By Price Range</th>\n",
       "      <th>Lowest Price ($psm) # in the Month</th>\n",
       "      <th>Highest Price ($psm) # in the Month</th>\n",
       "    </tr>\n",
       "  </thead>\n",
       "  <tbody>\n",
       "    <tr>\n",
       "      <th>count</th>\n",
       "      <td>31683.000000</td>\n",
       "      <td>31683.000000</td>\n",
       "      <td>31683.000000</td>\n",
       "      <td>31683.000000</td>\n",
       "      <td>31683.000000</td>\n",
       "      <td>31683.000000</td>\n",
       "      <td>7020.000000</td>\n",
       "      <td>7020.000000</td>\n",
       "      <td>7020.000000</td>\n",
       "    </tr>\n",
       "    <tr>\n",
       "      <th>mean</th>\n",
       "      <td>126.460847</td>\n",
       "      <td>101.389452</td>\n",
       "      <td>91.606414</td>\n",
       "      <td>9.783038</td>\n",
       "      <td>2.986523</td>\n",
       "      <td>2.941483</td>\n",
       "      <td>14729.829345</td>\n",
       "      <td>13865.764957</td>\n",
       "      <td>15545.168519</td>\n",
       "    </tr>\n",
       "    <tr>\n",
       "      <th>std</th>\n",
       "      <td>178.322591</td>\n",
       "      <td>158.057582</td>\n",
       "      <td>147.440738</td>\n",
       "      <td>29.291458</td>\n",
       "      <td>27.068105</td>\n",
       "      <td>19.622832</td>\n",
       "      <td>7439.898622</td>\n",
       "      <td>7341.179698</td>\n",
       "      <td>7777.804842</td>\n",
       "    </tr>\n",
       "    <tr>\n",
       "      <th>min</th>\n",
       "      <td>4.000000</td>\n",
       "      <td>0.000000</td>\n",
       "      <td>0.000000</td>\n",
       "      <td>0.000000</td>\n",
       "      <td>0.000000</td>\n",
       "      <td>0.000000</td>\n",
       "      <td>0.000000</td>\n",
       "      <td>0.000000</td>\n",
       "      <td>0.000000</td>\n",
       "    </tr>\n",
       "    <tr>\n",
       "      <th>25%</th>\n",
       "      <td>26.000000</td>\n",
       "      <td>12.000000</td>\n",
       "      <td>8.000000</td>\n",
       "      <td>0.000000</td>\n",
       "      <td>0.000000</td>\n",
       "      <td>0.000000</td>\n",
       "      <td>9419.000000</td>\n",
       "      <td>8751.000000</td>\n",
       "      <td>9978.000000</td>\n",
       "    </tr>\n",
       "    <tr>\n",
       "      <th>50%</th>\n",
       "      <td>56.000000</td>\n",
       "      <td>40.000000</td>\n",
       "      <td>34.000000</td>\n",
       "      <td>0.000000</td>\n",
       "      <td>0.000000</td>\n",
       "      <td>0.000000</td>\n",
       "      <td>13078.000000</td>\n",
       "      <td>12039.500000</td>\n",
       "      <td>13848.000000</td>\n",
       "    </tr>\n",
       "    <tr>\n",
       "      <th>75%</th>\n",
       "      <td>140.000000</td>\n",
       "      <td>108.000000</td>\n",
       "      <td>99.000000</td>\n",
       "      <td>6.000000</td>\n",
       "      <td>0.000000</td>\n",
       "      <td>0.000000</td>\n",
       "      <td>17567.000000</td>\n",
       "      <td>16632.750000</td>\n",
       "      <td>18525.000000</td>\n",
       "    </tr>\n",
       "    <tr>\n",
       "      <th>max</th>\n",
       "      <td>1715.000000</td>\n",
       "      <td>1500.000000</td>\n",
       "      <td>1240.000000</td>\n",
       "      <td>670.000000</td>\n",
       "      <td>992.000000</td>\n",
       "      <td>770.000000</td>\n",
       "      <td>73637.000000</td>\n",
       "      <td>73637.000000</td>\n",
       "      <td>73637.000000</td>\n",
       "    </tr>\n",
       "  </tbody>\n",
       "</table>\n",
       "</div>"
      ],
      "text/plain": [
       "       Total Number of Units in Project  Cumulative Units Launched to-date  \\\n",
       "count                      31683.000000                       31683.000000   \n",
       "mean                         126.460847                         101.389452   \n",
       "std                          178.322591                         158.057582   \n",
       "min                            4.000000                           0.000000   \n",
       "25%                           26.000000                          12.000000   \n",
       "50%                           56.000000                          40.000000   \n",
       "75%                          140.000000                         108.000000   \n",
       "max                         1715.000000                        1500.000000   \n",
       "\n",
       "       Cumulative Units Sold to-date  Cumulative Units Launched but Unsold  \\\n",
       "count                   31683.000000                          31683.000000   \n",
       "mean                       91.606414                              9.783038   \n",
       "std                       147.440738                             29.291458   \n",
       "min                         0.000000                              0.000000   \n",
       "25%                         8.000000                              0.000000   \n",
       "50%                        34.000000                              0.000000   \n",
       "75%                        99.000000                              6.000000   \n",
       "max                      1240.000000                            670.000000   \n",
       "\n",
       "       Units Launched in the Month  Units Sold in the Month  \\\n",
       "count                 31683.000000             31683.000000   \n",
       "mean                      2.986523                 2.941483   \n",
       "std                      27.068105                19.622832   \n",
       "min                       0.000000                 0.000000   \n",
       "25%                       0.000000                 0.000000   \n",
       "50%                       0.000000                 0.000000   \n",
       "75%                       0.000000                 0.000000   \n",
       "max                     992.000000               770.000000   \n",
       "\n",
       "       Median Price($psm) # in the Month Number Sold By Price Range  \\\n",
       "count                                        7020.000000              \n",
       "mean                                        14729.829345              \n",
       "std                                          7439.898622              \n",
       "min                                             0.000000              \n",
       "25%                                          9419.000000              \n",
       "50%                                         13078.000000              \n",
       "75%                                         17567.000000              \n",
       "max                                         73637.000000              \n",
       "\n",
       "       Lowest Price ($psm) # in the Month  Highest Price ($psm) # in the Month  \n",
       "count                         7020.000000                          7020.000000  \n",
       "mean                         13865.764957                         15545.168519  \n",
       "std                           7341.179698                          7777.804842  \n",
       "min                              0.000000                             0.000000  \n",
       "25%                           8751.000000                          9978.000000  \n",
       "50%                          12039.500000                         13848.000000  \n",
       "75%                          16632.750000                         18525.000000  \n",
       "max                          73637.000000                         73637.000000  "
      ]
     },
     "execution_count": 38,
     "metadata": {},
     "output_type": "execute_result"
    }
   ],
   "source": [
    "df = pd.read_csv('singapore-property-data.csv')\n",
    "df.replace('-', pd.np.nan, inplace=True)\n",
    "df.replace(',', '', regex=True, inplace=True)\n",
    "df[df.columns[-9:]] = df[df.columns[-9:]].convert_objects(convert_numeric=True)\n",
    "df[df.columns[-9:]].describe()"
   ]
  },
  {
   "cell_type": "markdown",
   "metadata": {},
   "source": [
    "# Filter out for experienced developers out there"
   ]
  },
  {
   "cell_type": "code",
   "execution_count": 39,
   "metadata": {
    "collapsed": true
   },
   "outputs": [],
   "source": [
    "df0 = df[(df['Cumulative Units Launched but Unsold'] == 0) & \\\n",
    "         (df['Cumulative Units Launched to-date'] != 0)]"
   ]
  },
  {
   "cell_type": "markdown",
   "metadata": {},
   "source": [
    "# Per year stats for Highest selling streets"
   ]
  },
  {
   "cell_type": "code",
   "execution_count": 40,
   "metadata": {
    "collapsed": false,
    "scrolled": true
   },
   "outputs": [
    {
     "name": "stdout",
     "output_type": "stream",
     "text": [
      "2007 ['ORCHARD BOULEVARD', 60278.0]\n",
      "2008 ['SCOTTS ROAD', 49644.0]\n",
      "2009 ['SCOTTS ROAD', 46328.0]\n",
      "2010 ['CAIRNHILL ROAD', 46361.0]\n",
      "2011 ['PATERSON HILL', 73637.0]\n",
      "2012 ['PATERSON HILL', 66898.0]\n",
      "2013 ['ARDMORE PARK', 47060.0]\n"
     ]
    }
   ],
   "source": [
    "for y in df0.year.unique():\n",
    "    tmp = df0[df0.year == y]\n",
    "    streets = tmp.sort_values(['Highest Price ($psm) # in the Month'], ascending=False)\n",
    "    print y, streets[['Street Name', 'Highest Price ($psm) # in the Month']].iloc[0].tolist() \n",
    "# tmp.groupby('Highest Price ($psm) # in the Month').first()"
   ]
  },
  {
   "cell_type": "markdown",
   "metadata": {},
   "source": [
    "\n",
    "# Top growing Developers"
   ]
  },
  {
   "cell_type": "code",
   "execution_count": 41,
   "metadata": {
    "collapsed": false
   },
   "outputs": [
    {
     "name": "stdout",
     "output_type": "stream",
     "text": [
      "Top growing Developers:\n",
      "1 Peak Garden Pte Ltd\n",
      "2 Glengary Pte Ltd\n",
      "3 City Developments Ltd\n",
      "4 Winhome Investment Pte Ltd\n",
      "5 Punggol Residences Pte Ltd\n",
      "6 Hong Realty Pte Ltd\n",
      "7 Yishun Land Pte Ltd\n",
      "8 Bartley Development Pte Ltd\n",
      "9 Sim Lian (Tampines One) Pte. Ltd\n",
      "10 Kensington Land Pte Ltd\n"
     ]
    }
   ],
   "source": [
    "df1 = df0.sort_values(['Cumulative Units Launched to-date'], ascending=False)\n",
    "res = df1.Developer.unique()[:10]\n",
    "print \"Top growing Developers:\"\n",
    "for i,j in enumerate(res): print i+1,j"
   ]
  },
  {
   "cell_type": "markdown",
   "metadata": {},
   "source": [
    "# Top 10 Developers with ZERO units launched till date"
   ]
  },
  {
   "cell_type": "code",
   "execution_count": 42,
   "metadata": {
    "collapsed": false,
    "scrolled": true
   },
   "outputs": [
    {
     "name": "stdout",
     "output_type": "stream",
     "text": [
      "1 Bullion Holdings Pte Ltd\n",
      "2 349UP Pte Ltd\n",
      "3 Deneside Pte Ltd\n",
      "4 Fairview Developments Pte Ltd\n",
      "5 Far East Organization Centre Pte Ltd\n",
      "6 Ho Brothers Investment Pte Ltd\n",
      "7 One Two Holdings Pte Ltd\n",
      "8 Winquest Investment Pte Ltd\n",
      "9 Napier Properties Pte Ltd\n",
      "10 High Oak Properties Pte Ltd\n"
     ]
    }
   ],
   "source": [
    "df1 = df[df['Cumulative Units Launched to-date'] == 0][:10]\n",
    "fig = df1.Developer.value_counts()\n",
    "for i,j in enumerate(fig.index): print i+1,j"
   ]
  },
  {
   "cell_type": "markdown",
   "metadata": {},
   "source": [
    "# Top 10 Developers with consistently high solds"
   ]
  },
  {
   "cell_type": "code",
   "execution_count": 43,
   "metadata": {
    "collapsed": false
   },
   "outputs": [
    {
     "name": "stdout",
     "output_type": "stream",
     "text": [
      "1 Grandon Pte Ltd\n",
      "2 Orchard Turn Residential Development Pte Ltd/Orchard Turn Retail Investment Pte Ltd\n",
      "3 Royce Properties Pte Ltd\n",
      "4 Taraville Pte Ltd\n",
      "5 Wheelock Properties (Singapore) Ltd\n",
      "6 Orchard Turn Residential Devt Pte Ltd/Orchard Turn Retail\n",
      "7 Winrose Investment Pte Ltd\n",
      "8 Orchard Turn Residential Devt Pte Ltd/Orchard Turn Retail Investment Pte Ltd\n",
      "9 Nassim Park Developments Pte Ltd\n",
      "10 Napier Properties Pte Ltd\n"
     ]
    }
   ],
   "source": [
    "df1 = df0[(df['Units Sold in the Month'] != 0) & \\\n",
    "        (df['Units Launched in the Month'] != 0)]\n",
    "    \n",
    "df1 = df0.sort_values(['Highest Price ($psm) # in the Month',\n",
    "                      'Median Price($psm) # in the Month Number Sold By Price Range',\n",
    "                      'Lowest Price ($psm) # in the Month'], ascending=False)\n",
    "\n",
    "res = df1.Developer.unique()[:10]\n",
    "for i,j in enumerate(res): print i+1,j\n",
    "# fig.plot(figsize=(16,4),  kind='bar', title=_title)"
   ]
  },
  {
   "cell_type": "markdown",
   "metadata": {},
   "source": [
    "# What influences the variances in units for projects / what drives the units  ?\n"
   ]
  },
  {
   "cell_type": "markdown",
   "metadata": {},
   "source": [
    "## Pickup top 3 projects"
   ]
  },
  {
   "cell_type": "code",
   "execution_count": 49,
   "metadata": {
    "collapsed": false
   },
   "outputs": [
    {
     "data": {
      "text/plain": [
       "LANDED HOUSING DEVELOPMENT    755\n",
       "RESIDENTIAL APARTMENTS        147\n",
       "NATHAN RESIDENCES              69\n",
       "Name: Project Name, dtype: int64"
      ]
     },
     "execution_count": 49,
     "metadata": {},
     "output_type": "execute_result"
    }
   ],
   "source": [
    "samples = df['Project Name'].value_counts()[:3]\n",
    "samples"
   ]
  },
  {
   "cell_type": "markdown",
   "metadata": {},
   "source": [
    "## Assess one of the projects"
   ]
  },
  {
   "cell_type": "code",
   "execution_count": 115,
   "metadata": {
    "collapsed": false,
    "scrolled": true
   },
   "outputs": [],
   "source": [
    "data = df[df['Project Name'] == samples.index[0]]\n",
    "# Lets take \"LANDED HOUSING DEVELOPMENT\" since it appears \n",
    "# to have a lot of developers associated with that name\n",
    "data = data.set_index(['Developer', 'Project Name']).sortlevel(0)"
   ]
  },
  {
   "cell_type": "markdown",
   "metadata": {},
   "source": [
    "For the sake of checking properties, which were actively being sold and launched in the same months, \n",
    "lets check for those, where Units Sold in the Month is atleast greater than half of those Launched in that Month."
   ]
  },
  {
   "cell_type": "code",
   "execution_count": 116,
   "metadata": {
    "collapsed": false,
    "scrolled": true
   },
   "outputs": [],
   "source": [
    "test = data[(data['Units Sold in the Month'] >= (data['Units Launched in the Month']/2)) & (data['Units Launched in the Month'] != 0)]"
   ]
  },
  {
   "cell_type": "code",
   "execution_count": 117,
   "metadata": {
    "collapsed": false
   },
   "outputs": [
    {
     "data": {
      "text/plain": [
       "Landed    16\n",
       "Name: Property Type, dtype: int64"
      ]
     },
     "execution_count": 117,
     "metadata": {},
     "output_type": "execute_result"
    }
   ],
   "source": [
    "test['Property Type'].value_counts()"
   ]
  },
  {
   "cell_type": "code",
   "execution_count": 118,
   "metadata": {
    "collapsed": false
   },
   "outputs": [
    {
     "data": {
      "text/plain": [
       "CCR    8\n",
       "OCR    7\n",
       "RCR    1\n",
       "Name: Locality, dtype: int64"
      ]
     },
     "execution_count": 118,
     "metadata": {},
     "output_type": "execute_result"
    }
   ],
   "source": [
    "test['Locality'].value_counts()"
   ]
  },
  {
   "cell_type": "code",
   "execution_count": 119,
   "metadata": {
    "collapsed": false
   },
   "outputs": [
    {
     "data": {
      "text/html": [
       "<div>\n",
       "<table border=\"1\" class=\"dataframe\">\n",
       "  <thead>\n",
       "    <tr style=\"text-align: right;\">\n",
       "      <th></th>\n",
       "      <th>year</th>\n",
       "      <th>month</th>\n",
       "      <th>Total Number of Units in Project</th>\n",
       "      <th>Cumulative Units Launched to-date</th>\n",
       "      <th>Cumulative Units Sold to-date</th>\n",
       "      <th>Cumulative Units Launched but Unsold</th>\n",
       "      <th>Units Launched in the Month</th>\n",
       "      <th>Units Sold in the Month</th>\n",
       "      <th>Median Price($psm) # in the Month Number Sold By Price Range</th>\n",
       "      <th>Lowest Price ($psm) # in the Month</th>\n",
       "      <th>Highest Price ($psm) # in the Month</th>\n",
       "    </tr>\n",
       "  </thead>\n",
       "  <tbody>\n",
       "    <tr>\n",
       "      <th>count</th>\n",
       "      <td>16.000</td>\n",
       "      <td>16.000000</td>\n",
       "      <td>16.000000</td>\n",
       "      <td>16.000000</td>\n",
       "      <td>16.00000</td>\n",
       "      <td>16.000000</td>\n",
       "      <td>16.000000</td>\n",
       "      <td>16.000000</td>\n",
       "      <td>16.000000</td>\n",
       "      <td>16.000000</td>\n",
       "      <td>16.000000</td>\n",
       "    </tr>\n",
       "    <tr>\n",
       "      <th>mean</th>\n",
       "      <td>2008.875</td>\n",
       "      <td>6.437500</td>\n",
       "      <td>13.000000</td>\n",
       "      <td>5.562500</td>\n",
       "      <td>5.43750</td>\n",
       "      <td>0.125000</td>\n",
       "      <td>3.687500</td>\n",
       "      <td>3.562500</td>\n",
       "      <td>13657.437500</td>\n",
       "      <td>12922.187500</td>\n",
       "      <td>13808.187500</td>\n",
       "    </tr>\n",
       "    <tr>\n",
       "      <th>std</th>\n",
       "      <td>1.500</td>\n",
       "      <td>2.874456</td>\n",
       "      <td>6.792152</td>\n",
       "      <td>4.760515</td>\n",
       "      <td>4.58939</td>\n",
       "      <td>0.341565</td>\n",
       "      <td>5.287958</td>\n",
       "      <td>5.085519</td>\n",
       "      <td>6107.278346</td>\n",
       "      <td>6627.907032</td>\n",
       "      <td>6027.643478</td>\n",
       "    </tr>\n",
       "    <tr>\n",
       "      <th>min</th>\n",
       "      <td>2007.000</td>\n",
       "      <td>1.000000</td>\n",
       "      <td>4.000000</td>\n",
       "      <td>1.000000</td>\n",
       "      <td>1.00000</td>\n",
       "      <td>0.000000</td>\n",
       "      <td>1.000000</td>\n",
       "      <td>1.000000</td>\n",
       "      <td>5813.000000</td>\n",
       "      <td>5479.000000</td>\n",
       "      <td>5813.000000</td>\n",
       "    </tr>\n",
       "    <tr>\n",
       "      <th>25%</th>\n",
       "      <td>2007.750</td>\n",
       "      <td>4.750000</td>\n",
       "      <td>7.500000</td>\n",
       "      <td>2.000000</td>\n",
       "      <td>2.00000</td>\n",
       "      <td>0.000000</td>\n",
       "      <td>1.000000</td>\n",
       "      <td>1.000000</td>\n",
       "      <td>10306.250000</td>\n",
       "      <td>8197.000000</td>\n",
       "      <td>10718.000000</td>\n",
       "    </tr>\n",
       "    <tr>\n",
       "      <th>50%</th>\n",
       "      <td>2009.000</td>\n",
       "      <td>6.500000</td>\n",
       "      <td>11.500000</td>\n",
       "      <td>4.000000</td>\n",
       "      <td>4.00000</td>\n",
       "      <td>0.000000</td>\n",
       "      <td>1.000000</td>\n",
       "      <td>1.000000</td>\n",
       "      <td>11544.000000</td>\n",
       "      <td>11248.000000</td>\n",
       "      <td>11576.500000</td>\n",
       "    </tr>\n",
       "    <tr>\n",
       "      <th>75%</th>\n",
       "      <td>2010.000</td>\n",
       "      <td>9.000000</td>\n",
       "      <td>19.000000</td>\n",
       "      <td>7.250000</td>\n",
       "      <td>7.25000</td>\n",
       "      <td>0.000000</td>\n",
       "      <td>2.250000</td>\n",
       "      <td>2.000000</td>\n",
       "      <td>15360.000000</td>\n",
       "      <td>15360.000000</td>\n",
       "      <td>15360.000000</td>\n",
       "    </tr>\n",
       "    <tr>\n",
       "      <th>max</th>\n",
       "      <td>2012.000</td>\n",
       "      <td>10.000000</td>\n",
       "      <td>23.000000</td>\n",
       "      <td>18.000000</td>\n",
       "      <td>17.00000</td>\n",
       "      <td>1.000000</td>\n",
       "      <td>18.000000</td>\n",
       "      <td>17.000000</td>\n",
       "      <td>23982.000000</td>\n",
       "      <td>23982.000000</td>\n",
       "      <td>23982.000000</td>\n",
       "    </tr>\n",
       "  </tbody>\n",
       "</table>\n",
       "</div>"
      ],
      "text/plain": [
       "           year      month  Total Number of Units in Project  \\\n",
       "count    16.000  16.000000                         16.000000   \n",
       "mean   2008.875   6.437500                         13.000000   \n",
       "std       1.500   2.874456                          6.792152   \n",
       "min    2007.000   1.000000                          4.000000   \n",
       "25%    2007.750   4.750000                          7.500000   \n",
       "50%    2009.000   6.500000                         11.500000   \n",
       "75%    2010.000   9.000000                         19.000000   \n",
       "max    2012.000  10.000000                         23.000000   \n",
       "\n",
       "       Cumulative Units Launched to-date  Cumulative Units Sold to-date  \\\n",
       "count                          16.000000                       16.00000   \n",
       "mean                            5.562500                        5.43750   \n",
       "std                             4.760515                        4.58939   \n",
       "min                             1.000000                        1.00000   \n",
       "25%                             2.000000                        2.00000   \n",
       "50%                             4.000000                        4.00000   \n",
       "75%                             7.250000                        7.25000   \n",
       "max                            18.000000                       17.00000   \n",
       "\n",
       "       Cumulative Units Launched but Unsold  Units Launched in the Month  \\\n",
       "count                             16.000000                    16.000000   \n",
       "mean                               0.125000                     3.687500   \n",
       "std                                0.341565                     5.287958   \n",
       "min                                0.000000                     1.000000   \n",
       "25%                                0.000000                     1.000000   \n",
       "50%                                0.000000                     1.000000   \n",
       "75%                                0.000000                     2.250000   \n",
       "max                                1.000000                    18.000000   \n",
       "\n",
       "       Units Sold in the Month  \\\n",
       "count                16.000000   \n",
       "mean                  3.562500   \n",
       "std                   5.085519   \n",
       "min                   1.000000   \n",
       "25%                   1.000000   \n",
       "50%                   1.000000   \n",
       "75%                   2.000000   \n",
       "max                  17.000000   \n",
       "\n",
       "       Median Price($psm) # in the Month Number Sold By Price Range  \\\n",
       "count                                          16.000000              \n",
       "mean                                        13657.437500              \n",
       "std                                          6107.278346              \n",
       "min                                          5813.000000              \n",
       "25%                                         10306.250000              \n",
       "50%                                         11544.000000              \n",
       "75%                                         15360.000000              \n",
       "max                                         23982.000000              \n",
       "\n",
       "       Lowest Price ($psm) # in the Month  Highest Price ($psm) # in the Month  \n",
       "count                           16.000000                            16.000000  \n",
       "mean                         12922.187500                         13808.187500  \n",
       "std                           6627.907032                          6027.643478  \n",
       "min                           5479.000000                          5813.000000  \n",
       "25%                           8197.000000                         10718.000000  \n",
       "50%                          11248.000000                         11576.500000  \n",
       "75%                          15360.000000                         15360.000000  \n",
       "max                          23982.000000                         23982.000000  "
      ]
     },
     "execution_count": 119,
     "metadata": {},
     "output_type": "execute_result"
    }
   ],
   "source": [
    "# test[test['Locality'].isin(['CCR', 'OCR'])].describe()\n",
    "test.describe()"
   ]
  },
  {
   "cell_type": "code",
   "execution_count": 120,
   "metadata": {
    "collapsed": false
   },
   "outputs": [
    {
     "name": "stdout",
     "output_type": "stream",
     "text": [
      "31798.9465368\n",
      "53.6568868902\n",
      "46.1333333333\n"
     ]
    }
   ],
   "source": [
    "print df['Total Number of Units in Project'].var()\n",
    "print data['Total Number of Units in Project'].var()\n",
    "print test['Total Number of Units in Project'].var()"
   ]
  },
  {
   "cell_type": "code",
   "execution_count": 147,
   "metadata": {
    "collapsed": false
   },
   "outputs": [
    {
     "data": {
      "text/plain": [
       "<matplotlib.axes._subplots.AxesSubplot at 0x7f61eb178990>"
      ]
     },
     "execution_count": 147,
     "metadata": {},
     "output_type": "execute_result"
    },
    {
     "data": {
      "image/png": "[encoded data removed]",
      "text/plain": [
       "<matplotlib.figure.Figure at 0x7f61ebe0b550>"
      ]
     },
     "metadata": {},
     "output_type": "display_data"
    },
    {
     "data": {
      "image/png": "[encoded data removed]",
      "text/plain": [
       "<matplotlib.figure.Figure at 0x7f61eb215210>"
      ]
     },
     "metadata": {},
     "output_type": "display_data"
    }
   ],
   "source": [
    "test = df.set_index(['year','month']).dropna()\n",
    "test[['Units Sold in the Month',\n",
    "    'Units Launched in the Month']].plot(figsize=(16,8))\n",
    "test[['Median Price($psm) # in the Month Number Sold By Price Range']].plot(figsize=(16,8), kind='line')\n",
    "# 'Total Number of Units in Project'"
   ]
  }
 ],
 "metadata": {
  "kernelspec": {
   "display_name": "Python 2",
   "language": "python",
   "name": "python2"
  },
  "language_info": {
   "codemirror_mode": {
    "name": "ipython",
    "version": 2
   },
   "file_extension": ".py",
   "mimetype": "text/x-python",
   "name": "python",
   "nbconvert_exporter": "python",
   "pygments_lexer": "ipython2",
   "version": "2.7.10"
  }
 },
 "nbformat": 4,
 "nbformat_minor": 0
}
