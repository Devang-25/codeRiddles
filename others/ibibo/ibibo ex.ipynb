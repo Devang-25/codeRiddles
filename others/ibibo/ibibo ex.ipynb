{
 "metadata": {
  "name": "",
  "signature": "sha256:7d9f54e67f232feb652e6e6eeffced8a8595071609f3b3231fc25147fcc3788b"
 },
 "nbformat": 3,
 "nbformat_minor": 0,
 "worksheets": [
  {
   "cells": [
    {
     "cell_type": "code",
     "collapsed": false,
     "input": [
      "from uuid import uuid1\n",
      "from random import randint\n",
      "\n",
      "keys = [\"name\", \"city_code\", \"geo\", \"zipcode\", \"address\" ]\n",
      "# address_format_keys = [\"block_no\",\"street_name\", \"\"]"
     ],
     "language": "python",
     "metadata": {},
     "outputs": [],
     "prompt_number": 9
    },
    {
     "cell_type": "code",
     "collapsed": false,
     "input": [
      "data = []\n",
      "for i in xrange(10):\n",
      "    sample = dict.fromkeys(keys)\n",
      "    sample[\"name\"] = str(uuid1())\n",
      "    sample[\"city_code\"] = randint(2132,131313)\n",
      "    sample[\"geo\"] = (float(randint(203057,302018))/3,float(randint(203057,302018))/3)\n",
      "    sample[\"zipcode\"] = randint(203057,302018)\n",
      "    sample[\"address\"] = \"%s, %s, %s\" % (str(randint(1,20)),str(uuid1()),str(uuid1()))\n",
      "    data.append(sample)\n",
      "    \n",
      "data[0]['address'] = data[1]['address'] + ' subset of ix 1'\n",
      "data[2]['address'] = data[3]['address'] + ' subset of ix 3'\n",
      "data[8]['address'] = data[9]['address'] + ' subset of ix 9'"
     ],
     "language": "python",
     "metadata": {},
     "outputs": [],
     "prompt_number": 30
    },
    {
     "cell_type": "code",
     "collapsed": false,
     "input": [
      "data"
     ],
     "language": "python",
     "metadata": {},
     "outputs": [
      {
       "metadata": {},
       "output_type": "pyout",
       "prompt_number": 31,
       "text": [
        "[{'address': '7, 0e4997fc-037a-11e5-b456-56847afe9799, 0e499a7c-037a-11e5-b456-56847afe9799 subset of ix 1',\n",
        "  'city_code': 95443,\n",
        "  'geo': (78690.66666666667, 95984.33333333333),\n",
        "  'name': '0e498686-037a-11e5-b456-56847afe9799',\n",
        "  'zipcode': 277877},\n",
        " {'address': '7, 0e4997fc-037a-11e5-b456-56847afe9799, 0e499a7c-037a-11e5-b456-56847afe9799',\n",
        "  'city_code': 47272,\n",
        "  'geo': (91317.33333333333, 67987.33333333333),\n",
        "  'name': '0e499450-037a-11e5-b456-56847afe9799',\n",
        "  'zipcode': 229746},\n",
        " {'address': '7, 0e49ad3c-037a-11e5-b456-56847afe9799, 0e49af6c-037a-11e5-b456-56847afe9799 subset of ix 3',\n",
        "  'city_code': 58257,\n",
        "  'geo': (83524.0, 87394.33333333333),\n",
        "  'name': '0e499d10-037a-11e5-b456-56847afe9799',\n",
        "  'zipcode': 257467},\n",
        " {'address': '7, 0e49ad3c-037a-11e5-b456-56847afe9799, 0e49af6c-037a-11e5-b456-56847afe9799',\n",
        "  'city_code': 51304,\n",
        "  'geo': (96485.0, 69753.66666666667),\n",
        "  'name': '0e49aa6c-037a-11e5-b456-56847afe9799',\n",
        "  'zipcode': 242307},\n",
        " {'address': '20, 0e49b50c-037a-11e5-b456-56847afe9799, 0e49b76e-037a-11e5-b456-56847afe9799',\n",
        "  'city_code': 131050,\n",
        "  'geo': (99733.33333333333, 83155.33333333333),\n",
        "  'name': '0e49b1e2-037a-11e5-b456-56847afe9799',\n",
        "  'zipcode': 294138},\n",
        " {'address': '15, 0e49bc46-037a-11e5-b456-56847afe9799, 0e49be76-037a-11e5-b456-56847afe9799',\n",
        "  'city_code': 58489,\n",
        "  'geo': (70652.66666666667, 71522.0),\n",
        "  'name': '0e49b9a8-037a-11e5-b456-56847afe9799',\n",
        "  'zipcode': 226311},\n",
        " {'address': '16, 0e49c39e-037a-11e5-b456-56847afe9799, 0e49c5d8-037a-11e5-b456-56847afe9799',\n",
        "  'city_code': 21465,\n",
        "  'geo': (91548.33333333333, 89887.33333333333),\n",
        "  'name': '0e49c0c4-037a-11e5-b456-56847afe9799',\n",
        "  'zipcode': 273063},\n",
        " {'address': '7, 0e49cb6e-037a-11e5-b456-56847afe9799, 0e49cdd0-037a-11e5-b456-56847afe9799',\n",
        "  'city_code': 2643,\n",
        "  'geo': (96151.66666666667, 90509.33333333333),\n",
        "  'name': '0e49c876-037a-11e5-b456-56847afe9799',\n",
        "  'zipcode': 278226},\n",
        " {'address': '14, 0e49ee46-037a-11e5-b456-56847afe9799, 0e49f1c0-037a-11e5-b456-56847afe9799 subset of ix 9',\n",
        "  'city_code': 23397,\n",
        "  'geo': (78895.0, 98619.33333333333),\n",
        "  'name': '0e49d0b4-037a-11e5-b456-56847afe9799',\n",
        "  'zipcode': 254385},\n",
        " {'address': '14, 0e49ee46-037a-11e5-b456-56847afe9799, 0e49f1c0-037a-11e5-b456-56847afe9799',\n",
        "  'city_code': 19664,\n",
        "  'geo': (81051.66666666667, 82152.0),\n",
        "  'name': '0e49da50-037a-11e5-b456-56847afe9799',\n",
        "  'zipcode': 267614}]"
       ]
      }
     ],
     "prompt_number": 31
    },
    {
     "cell_type": "code",
     "collapsed": false,
     "input": [],
     "language": "python",
     "metadata": {},
     "outputs": []
    }
   ],
   "metadata": {}
  }
 ]
}